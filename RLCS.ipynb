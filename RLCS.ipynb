{
 "cells": [
  {
   "cell_type": "code",
   "execution_count": 1,
   "metadata": {},
   "outputs": [],
   "source": [
    "# Import libraries\n",
    "import numpy as np\n",
    "import pandas as pd\n",
    "import matplotlib.pyplot as plt\n",
    "plt.style.use('ggplot')\n",
    "import re"
   ]
  },
  {
   "cell_type": "code",
   "execution_count": 2,
   "metadata": {},
   "outputs": [],
   "source": [
    "# Read in the data\n",
    "df = pd.read_csv(r'C:\\Users\\crae1\\Documents\\GWG\\RLCSData\\matches_cleaned.csv')"
   ]
  },
  {
   "cell_type": "code",
   "execution_count": 3,
   "metadata": {},
   "outputs": [],
   "source": [
    "# Create df for each core shots value range\n",
    "df010 = df.loc[df['core_shots'].between(0,10)]\n",
    "df1020 = df.loc[df['core_shots'].between(10,20)]\n",
    "df2030 = df.loc[df['core_shots'].between(20,30)]\n",
    "df3040 = df.loc[df['core_shots'].between(30,40)]\n",
    "df4050 = df.loc[df['core_shots'].between(40,50)]\n",
    "df5060 = df.loc[df['core_shots'].between(50,60)]\n",
    "df6070 = df.loc[df['core_shots'].between(60,70)]\n",
    "df7080= df.loc[df['core_shots'].between(70,80)]"
   ]
  },
  {
   "cell_type": "code",
   "execution_count": 4,
   "metadata": {},
   "outputs": [],
   "source": [
    "# Create df for each movement distance for each core shot range\n",
    "dfm0104 = df010.loc[df010['movement_total_distance'].between(3500000,4000000)]\n",
    "dfm01045 = df010.loc[df010['movement_total_distance'].between(4000000,4500000)]\n",
    "dfm0105= df010.loc[df010['movement_total_distance'].between(4500000,5000000)]\n",
    "dfm01055 = df010.loc[df010['movement_total_distance'].between(5000000,5500000)]\n",
    "dfm0106 = df010.loc[df010['movement_total_distance'].between(5500000,6000000)]\n",
    "dfm01065 = df010.loc[df010['movement_total_distance'].between(6000000,6500000)]\n",
    "dfm0107 = df010.loc[df010['movement_total_distance'].between(6500000,7000000)]\n",
    "dfm01075 = df010.loc[df010['movement_total_distance'].between(7000000,7500000)]\n",
    "dfm0108 = df010.loc[df010['movement_total_distance'].between(7500000,8000000)]\n",
    "\n",
    "dfm10204 = df1020.loc[df1020['movement_total_distance'].between(3500000,4000000)]\n",
    "dfm102045 = df1020.loc[df1020['movement_total_distance'].between(4000000,4500000)]\n",
    "dfm10205= df1020.loc[df1020['movement_total_distance'].between(4500000,5000000)]\n",
    "dfm102055 = df1020.loc[df1020['movement_total_distance'].between(5000000,5500000)]\n",
    "dfm10206 = df1020.loc[df1020['movement_total_distance'].between(5500000,6000000)]\n",
    "dfm102065 = df1020.loc[df1020['movement_total_distance'].between(6000000,6500000)]\n",
    "dfm10207 = df1020.loc[df1020['movement_total_distance'].between(6500000,7000000)]\n",
    "dfm102075 = df1020.loc[df1020['movement_total_distance'].between(7000000,7500000)]\n",
    "dfm10208 = df1020.loc[df1020['movement_total_distance'].between(7500000,8000000)]\n",
    "\n",
    "dfm20304 = df2030.loc[df2030['movement_total_distance'].between(3500000,4000000)]\n",
    "dfm203045 = df2030.loc[df2030['movement_total_distance'].between(4000000,4500000)]\n",
    "dfm20305= df2030.loc[df2030['movement_total_distance'].between(4500000,5000000)]\n",
    "dfm203055 = df2030.loc[df2030['movement_total_distance'].between(5000000,5500000)]\n",
    "dfm20306 = df2030.loc[df2030['movement_total_distance'].between(5500000,6000000)]\n",
    "dfm203065 = df2030.loc[df2030['movement_total_distance'].between(6000000,6500000)]\n",
    "dfm20307 = df2030.loc[df2030['movement_total_distance'].between(6500000,7000000)]\n",
    "dfm203075 = df2030.loc[df2030['movement_total_distance'].between(7000000,7500000)]\n",
    "dfm20308 = df2030.loc[df2030['movement_total_distance'].between(7500000,8000000)]\n",
    "\n",
    "dfm30404 = df3040.loc[df3040['movement_total_distance'].between(3500000,4000000)]\n",
    "dfm304045 = df3040.loc[df3040['movement_total_distance'].between(4000000,4500000)]\n",
    "dfm30405= df3040.loc[df3040['movement_total_distance'].between(4500000,5000000)]\n",
    "dfm304055 = df3040.loc[df3040['movement_total_distance'].between(5000000,5500000)]\n",
    "dfm30406 = df3040.loc[df3040['movement_total_distance'].between(5500000,6000000)]\n",
    "dfm304065 = df3040.loc[df3040['movement_total_distance'].between(6000000,6500000)]\n",
    "dfm30407 = df3040.loc[df3040['movement_total_distance'].between(6500000,7000000)]\n",
    "dfm304075 = df3040.loc[df3040['movement_total_distance'].between(7000000,7500000)]\n",
    "dfm30408 = df3040.loc[df3040['movement_total_distance'].between(7500000,8000000)]\n",
    "\n",
    "dfm40504 = df4050.loc[df4050['movement_total_distance'].between(3500000,4000000)]\n",
    "dfm405045 = df4050.loc[df4050['movement_total_distance'].between(4000000,4500000)]\n",
    "dfm40505= df4050.loc[df4050['movement_total_distance'].between(4500000,5000000)]\n",
    "dfm405055 = df4050.loc[df4050['movement_total_distance'].between(5000000,5500000)]\n",
    "dfm40506 = df4050.loc[df4050['movement_total_distance'].between(5500000,6000000)]\n",
    "dfm405065 = df4050.loc[df4050['movement_total_distance'].between(6000000,6500000)]\n",
    "dfm40507 = df4050.loc[df4050['movement_total_distance'].between(6500000,7000000)]\n",
    "dfm405075 = df4050.loc[df4050['movement_total_distance'].between(7000000,7500000)]\n",
    "dfm40508 = df4050.loc[df4050['movement_total_distance'].between(7500000,8000000)]\n",
    "\n",
    "dfm50604 = df5060.loc[df5060['movement_total_distance'].between(3500000,4000000)]\n",
    "dfm506045 = df5060.loc[df5060['movement_total_distance'].between(4000000,4500000)]\n",
    "dfm50605= df5060.loc[df5060['movement_total_distance'].between(4500000,5000000)]\n",
    "dfm506055 = df5060.loc[df5060['movement_total_distance'].between(5000000,5500000)]\n",
    "dfm50606 = df5060.loc[df5060['movement_total_distance'].between(5500000,6000000)]\n",
    "dfm506065 = df5060.loc[df5060['movement_total_distance'].between(6000000,6500000)]\n",
    "dfm50607 = df5060.loc[df5060['movement_total_distance'].between(6500000,7000000)]\n",
    "dfm506075 = df5060.loc[df5060['movement_total_distance'].between(7000000,7500000)]\n",
    "dfm50608 = df5060.loc[df5060['movement_total_distance'].between(7500000,8000000)]\n",
    "\n",
    "dfm60704 = df6070.loc[df6070['movement_total_distance'].between(3500000,4000000)]\n",
    "dfm607045 = df6070.loc[df6070['movement_total_distance'].between(4000000,4500000)]\n",
    "dfm60705= df6070.loc[df6070['movement_total_distance'].between(4500000,5000000)]\n",
    "dfm607055 = df6070.loc[df6070['movement_total_distance'].between(5000000,5500000)]\n",
    "dfm60706 = df6070.loc[df6070['movement_total_distance'].between(5500000,6000000)]\n",
    "dfm607065 = df6070.loc[df6070['movement_total_distance'].between(6000000,6500000)]\n",
    "dfm60707 = df6070.loc[df6070['movement_total_distance'].between(6500000,7000000)]\n",
    "dfm607075 = df6070.loc[df6070['movement_total_distance'].between(7000000,7500000)]\n",
    "dfm60708 = df6070.loc[df6070['movement_total_distance'].between(7500000,8000000)]\n",
    "\n",
    "dfm70804 = df7080.loc[df7080['movement_total_distance'].between(3500000,4000000)]\n",
    "dfm708045 = df7080.loc[df7080['movement_total_distance'].between(4000000,4500000)]\n",
    "dfm70805= df7080.loc[df7080['movement_total_distance'].between(4500000,5000000)]\n",
    "dfm708055 = df7080.loc[df7080['movement_total_distance'].between(5000000,5500000)]\n",
    "dfm70806 = df7080.loc[df7080['movement_total_distance'].between(5500000,6000000)]\n",
    "dfm708065 = df7080.loc[df7080['movement_total_distance'].between(6000000,6500000)]\n",
    "dfm70807 = df7080.loc[df7080['movement_total_distance'].between(6500000,7000000)]\n",
    "dfm708075 = df7080.loc[df7080['movement_total_distance'].between(7000000,7500000)]\n",
    "dfm70808 = df7080.loc[df7080['movement_total_distance'].between(7500000,8000000)]\n"
   ]
  },
  {
   "cell_type": "code",
   "execution_count": 15,
   "metadata": {},
   "outputs": [],
   "source": [
    "# Apply .name to each dataframe\n",
    "dfm0104.name = '0104'\n",
    "dfm01045.name = '01045'\n",
    "dfm0105.name = '0105'\n",
    "dfm01055.name = '01055'\n",
    "dfm0106.name = '0106'\n",
    "dfm01065.name = '01065'\n",
    "dfm0107.name = '0107'\n",
    "dfm01075.name = '01075'\n",
    "dfm0108.name = '0108'\n",
    "\n",
    "dfm10204.name = '10204'\n",
    "dfm102045.name = '102045'\n",
    "dfm10205.name = '10205'\n",
    "dfm102055.name = '102055'\n",
    "dfm10206.name = '10206'\n",
    "dfm102065.name = '102065'\n",
    "dfm10207.name = '10207'\n",
    "dfm102075.name = '102075'\n",
    "dfm10208.name = '10208'\n",
    "\n",
    "dfm20304.name = '20304'\n",
    "dfm203045.name = '203045'\n",
    "dfm20305.name = '20305'\n",
    "dfm203055.name = '203055'\n",
    "dfm20306.name = '20306'\n",
    "dfm203065.name = '203065'\n",
    "dfm20307.name = '20307'\n",
    "dfm203075.name = '203075'\n",
    "dfm20308.name = '20308'\n",
    "\n",
    "dfm30404.name = '30404'\n",
    "dfm304045.name = '304045'\n",
    "dfm30405.name = '30405'\n",
    "dfm304055.name = '304055'\n",
    "dfm30406.name = '30406'\n",
    "dfm304065.name = '304065'\n",
    "dfm30407.name = '30407'\n",
    "dfm304075.name = '304075'\n",
    "dfm30408.name = '30408'\n",
    "\n",
    "dfm40504.name = '40504'\n",
    "dfm405045.name = '405045'\n",
    "dfm40505.name = '40505'\n",
    "dfm405055.name = '405055'\n",
    "dfm40506.name = '40506'\n",
    "dfm405065.name = '405065'\n",
    "dfm40507.name = '40507'\n",
    "dfm405075.name = '405075'\n",
    "dfm40508.name = '40508'\n",
    "\n",
    "dfm50604.name = '50604'\n",
    "dfm506045.name = '506045'\n",
    "dfm50605.name = '50605'\n",
    "dfm506055.name = '506055'\n",
    "dfm50606.name = '50606'\n",
    "dfm506065.name = '506065'\n",
    "dfm50607.name = '50607'\n",
    "dfm506075.name = '506075'\n",
    "dfm50608.name = '50608'\n",
    "\n",
    "dfm60704.name = '60704'\n",
    "dfm607045.name = '607045'\n",
    "dfm60705.name = '60705'\n",
    "dfm607055.name = '607055'\n",
    "dfm60706.name = '60706'\n",
    "dfm607065.name = '607065'\n",
    "dfm60707.name = '60707'\n",
    "dfm607075.name = '607075'\n",
    "dfm60708.name = '60708'\n",
    "\n",
    "dfm70804.name = '70804'\n",
    "dfm708045.name = '708045'\n",
    "dfm70805.name = '70805'\n",
    "dfm708055.name = '708055'\n",
    "dfm70806.name = '70806'\n",
    "dfm708065.name = '708065'\n",
    "dfm70807.name = '70807'\n",
    "dfm708075.name = '708075'\n",
    "dfm70808.name = '70808'\n"
   ]
  },
  {
   "cell_type": "code",
   "execution_count": 16,
   "metadata": {},
   "outputs": [],
   "source": [
    "# Create a list of all dataframes\n",
    "tables = [dfm0104,dfm01045,dfm0105,dfm01055,dfm0106,dfm01065,dfm0107,dfm01075,dfm0108,dfm10204,dfm102045,dfm10205,dfm102055,dfm10206,dfm102065,dfm10207,dfm102075,dfm10208,\n",
    "dfm20304,dfm203045,dfm20305,dfm203055,dfm20306,dfm203065,dfm20307,dfm203075,dfm20308,dfm30404,dfm304045,dfm30405,dfm304055,dfm30406,dfm304065,dfm30407,dfm304075,dfm30408,\n",
    "dfm40504,dfm405045,dfm40505,dfm405055,dfm40506,dfm405065,dfm40507,dfm405075,dfm40508,dfm50604,dfm506045,dfm50605,dfm506055,dfm50606,dfm506065,dfm50607,dfm506075,dfm50608,\n",
    "dfm60704,dfm607045,dfm60705,dfm607055,dfm60706,dfm607065,dfm60707,dfm607075,dfm60708,dfm70804,dfm708045,dfm70805,dfm708055,dfm70806,dfm708065,dfm70807,dfm708075,dfm70808]"
   ]
  },
  {
   "cell_type": "code",
   "execution_count": 17,
   "metadata": {},
   "outputs": [],
   "source": [
    "# Initialise list of names and winrate list\n",
    "name_list =[]\n",
    "win_rate_list = []"
   ]
  },
  {
   "cell_type": "code",
   "execution_count": 18,
   "metadata": {},
   "outputs": [
    {
     "name": "stderr",
     "output_type": "stream",
     "text": [
      "C:\\Users\\crae1\\AppData\\Local\\Temp\\ipykernel_5356\\1428767835.py:3: RuntimeWarning: invalid value encountered in longlong_scalars\n",
      "  if name[name['winner'] == True]['winner'].count()/name['winner'].count() > .80:\n"
     ]
    }
   ],
   "source": [
    "# Loop through all grouped dataframes and append only the groups with a winrate > than 80% to respective lists\n",
    "for name in tables:\n",
    "    if name[name['winner'] == True]['winner'].count()/name['winner'].count() > .80:\n",
    "            name_list.append(name.name)\n",
    "            win_rate_list.append(name[name['winner'] == True]['winner'].count()/name['winner'].count())"
   ]
  },
  {
   "cell_type": "code",
   "execution_count": 19,
   "metadata": {},
   "outputs": [],
   "source": [
    "# Create final df from name and win rate lists\n",
    "winrate_df = pd.DataFrame({'Group' : name_list, 'Win_Rate' : win_rate_list})\n",
    "winrate_df = winrate_df.sort_values(by=['Win_Rate'], ascending=False)"
   ]
  },
  {
   "cell_type": "code",
   "execution_count": 21,
   "metadata": {},
   "outputs": [
    {
     "data": {
      "text/plain": [
       "<AxesSubplot:title={'center':'Factors Affecting Win Rate in the RLCS'}, xlabel='No. of Shots + Movement Distance Code', ylabel='Win Rate'>"
      ]
     },
     "execution_count": 21,
     "metadata": {},
     "output_type": "execute_result"
    },
    {
     "data": {
      "image/png": "[encoded data removed]",
      "text/plain": [
       "<Figure size 1000x600 with 1 Axes>"
      ]
     },
     "metadata": {},
     "output_type": "display_data"
    }
   ],
   "source": [
    "# Create viz\n",
    "winrate_df.plot(kind='bar', title='Factors Affecting Win Rate in the RLCS', x='Group', ylabel='Win Rate', xlabel='No. of Shots + Movement Distance Code', figsize=(10,6), color='r')"
   ]
  }
 ],
 "metadata": {
  "kernelspec": {
   "display_name": "Python 3.10.6 64-bit (microsoft store)",
   "language": "python",
   "name": "python3"
  },
  "language_info": {
   "codemirror_mode": {
    "name": "ipython",
    "version": 3
   },
   "file_extension": ".py",
   "mimetype": "text/x-python",
   "name": "python",
   "nbconvert_exporter": "python",
   "pygments_lexer": "ipython3",
   "version": "3.10.6"
  },
  "orig_nbformat": 4,
  "vscode": {
   "interpreter": {
    "hash": "35e8bb57fdae471a74ff82bbc82d407914f4ca244a05e56daca50c2348b26bbc"
   }
  }
 },
 "nbformat": 4,
 "nbformat_minor": 2
}
